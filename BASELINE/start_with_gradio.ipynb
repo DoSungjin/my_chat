{
  "cells": [
    {
      "cell_type": "markdown",
      "metadata": {
        "id": "u-KIIvQ5NKJP"
      },
      "source": [
        "머신러닝 모델 기반 서비스인 경우 그라디오를 사용하면 쉽게 사용자 인터페이스를 만들 수 있습니다. 이번 실습에서는 그라디오에 대한 소개와 간단한 예제를 살펴보고 챗봇 인터페이스도 함게 살펴보겠습니다.\n",
        "\n",
        "먼저 그라디오 라이브러리를 설치해보겠습니다."
      ]
    },
    {
      "cell_type": "code",
      "execution_count": 1,
      "metadata": {
        "colab": {
          "base_uri": "https://localhost:8080/"
        },
        "id": "GHgrhVbLnM6I",
        "outputId": "0ae72f44-4db6-4641-eb0b-523a81311cb5"
      },
      "outputs": [
        {
          "name": "stdout",
          "output_type": "stream",
          "text": [
            "Defaulting to user installation because normal site-packages is not writeable\n",
            "Collecting gradio\n",
            "  Downloading gradio-3.41.2-py3-none-any.whl (20.1 MB)\n",
            "\u001b[2K     \u001b[90m━━━━━━━━━━━━━━━━━━━━━━━━━━━━━━━━━━━━━━━━\u001b[0m \u001b[32m20.1/20.1 MB\u001b[0m \u001b[31m3.9 MB/s\u001b[0m eta \u001b[36m0:00:00\u001b[0m00:01\u001b[0m00:01\u001b[0m\n",
            "\u001b[?25hCollecting httpx\n",
            "  Downloading httpx-0.24.1-py3-none-any.whl (75 kB)\n",
            "\u001b[2K     \u001b[90m━━━━━━━━━━━━━━━━━━━━━━━━━━━━━━━━━━━━━━━━\u001b[0m \u001b[32m75.4/75.4 KB\u001b[0m \u001b[31m5.2 MB/s\u001b[0m eta \u001b[36m0:00:00\u001b[0m\n",
            "\u001b[?25hCollecting uvicorn>=0.14.0\n",
            "  Downloading uvicorn-0.23.2-py3-none-any.whl (59 kB)\n",
            "\u001b[2K     \u001b[90m━━━━━━━━━━━━━━━━━━━━━━━━━━━━━━━━━━━━━━━━\u001b[0m \u001b[32m59.5/59.5 KB\u001b[0m \u001b[31m2.1 MB/s\u001b[0m eta \u001b[36m0:00:00\u001b[0m\n",
            "\u001b[?25hCollecting python-multipart\n",
            "  Downloading python_multipart-0.0.6-py3-none-any.whl (45 kB)\n",
            "\u001b[2K     \u001b[90m━━━━━━━━━━━━━━━━━━━━━━━━━━━━━━━━━━━━━━━━\u001b[0m \u001b[32m45.7/45.7 KB\u001b[0m \u001b[31m21.2 MB/s\u001b[0m eta \u001b[36m0:00:00\u001b[0m\n",
            "\u001b[?25hCollecting aiofiles<24.0,>=22.0\n",
            "  Downloading aiofiles-23.2.1-py3-none-any.whl (15 kB)\n",
            "Requirement already satisfied: packaging in /home/dsj/.local/lib/python3.10/site-packages (from gradio) (23.1)\n",
            "Requirement already satisfied: numpy~=1.0 in /home/dsj/.local/lib/python3.10/site-packages (from gradio) (1.24.3)\n",
            "Requirement already satisfied: jinja2<4.0 in /home/dsj/.local/lib/python3.10/site-packages (from gradio) (3.0.3)\n",
            "Requirement already satisfied: pyyaml<7.0,>=5.0 in /usr/lib/python3/dist-packages (from gradio) (5.4.1)\n",
            "Requirement already satisfied: pydantic!=1.8,!=1.8.1,!=2.0.0,!=2.0.1,<3.0.0,>=1.7.4 in /home/dsj/.local/lib/python3.10/site-packages (from gradio) (1.10.10)\n",
            "Requirement already satisfied: huggingface-hub>=0.14.0 in /home/dsj/.local/lib/python3.10/site-packages (from gradio) (0.16.4)\n",
            "Collecting gradio-client==0.5.0\n",
            "  Downloading gradio_client-0.5.0-py3-none-any.whl (298 kB)\n",
            "\u001b[2K     \u001b[90m━━━━━━━━━━━━━━━━━━━━━━━━━━━━━━━━━━━━━━━\u001b[0m \u001b[32m298.2/298.2 KB\u001b[0m \u001b[31m5.5 MB/s\u001b[0m eta \u001b[36m0:00:00\u001b[0ma \u001b[36m0:00:01\u001b[0m\n",
            "\u001b[?25hCollecting websockets<12.0,>=10.0\n",
            "  Downloading websockets-11.0.3-cp310-cp310-manylinux_2_5_x86_64.manylinux1_x86_64.manylinux_2_17_x86_64.manylinux2014_x86_64.whl (129 kB)\n",
            "\u001b[2K     \u001b[90m━━━━━━━━━━━━━━━━━━━━━━━━━━━━━━━━━━━━━━━\u001b[0m \u001b[32m129.9/129.9 KB\u001b[0m \u001b[31m7.9 MB/s\u001b[0m eta \u001b[36m0:00:00\u001b[0m\n",
            "\u001b[?25hRequirement already satisfied: matplotlib~=3.0 in /home/dsj/.local/lib/python3.10/site-packages (from gradio) (3.7.1)\n",
            "Requirement already satisfied: pandas<3.0,>=1.0 in /home/dsj/.local/lib/python3.10/site-packages (from gradio) (1.5.3)\n",
            "Collecting orjson~=3.0\n",
            "  Downloading orjson-3.9.5-cp310-cp310-manylinux_2_17_x86_64.manylinux2014_x86_64.whl (139 kB)\n",
            "\u001b[2K     \u001b[90m━━━━━━━━━━━━━━━━━━━━━━━━━━━━━━━━━━━━━━━\u001b[0m \u001b[32m139.9/139.9 KB\u001b[0m \u001b[31m5.1 MB/s\u001b[0m eta \u001b[36m0:00:00\u001b[0m\n",
            "\u001b[?25hRequirement already satisfied: markupsafe~=2.0 in /home/dsj/.local/lib/python3.10/site-packages (from gradio) (2.1.3)\n",
            "Collecting ffmpy\n",
            "  Downloading ffmpy-0.3.1.tar.gz (5.5 kB)\n",
            "  Preparing metadata (setup.py) ... \u001b[?25ldone\n",
            "\u001b[?25hCollecting pydub\n",
            "  Downloading pydub-0.25.1-py2.py3-none-any.whl (32 kB)\n",
            "Requirement already satisfied: pillow<11.0,>=8.0 in /usr/lib/python3/dist-packages (from gradio) (9.0.1)\n",
            "Collecting altair<6.0,>=4.2.0\n",
            "  Downloading altair-5.0.1-py3-none-any.whl (471 kB)\n",
            "\u001b[2K     \u001b[90m━━━━━━━━━━━━━━━━━━━━━━━━━━━━━━━━━━━━━━━\u001b[0m \u001b[32m471.5/471.5 KB\u001b[0m \u001b[31m5.0 MB/s\u001b[0m eta \u001b[36m0:00:00\u001b[0ma \u001b[36m0:00:01\u001b[0m\n",
            "\u001b[?25hCollecting semantic-version~=2.0\n",
            "  Downloading semantic_version-2.10.0-py2.py3-none-any.whl (15 kB)\n",
            "Requirement already satisfied: typing-extensions~=4.0 in /home/dsj/.local/lib/python3.10/site-packages (from gradio) (4.5.0)\n",
            "Collecting fastapi\n",
            "  Downloading fastapi-0.103.0-py3-none-any.whl (66 kB)\n",
            "\u001b[2K     \u001b[90m━━━━━━━━━━━━━━━━━━━━━━━━━━━━━━━━━━━━━━━━\u001b[0m \u001b[32m66.2/66.2 KB\u001b[0m \u001b[31m5.2 MB/s\u001b[0m eta \u001b[36m0:00:00\u001b[0m\n",
            "\u001b[?25hRequirement already satisfied: requests~=2.0 in /usr/lib/python3/dist-packages (from gradio) (2.25.1)\n",
            "Collecting importlib-resources<7.0,>=1.3\n",
            "  Downloading importlib_resources-6.0.1-py3-none-any.whl (34 kB)\n",
            "Requirement already satisfied: fsspec in /home/dsj/.local/lib/python3.10/site-packages (from gradio-client==0.5.0->gradio) (2023.6.0)\n",
            "Requirement already satisfied: toolz in /home/dsj/.local/lib/python3.10/site-packages (from altair<6.0,>=4.2.0->gradio) (0.12.0)\n",
            "Requirement already satisfied: jsonschema>=3.0 in /home/dsj/.local/lib/python3.10/site-packages (from altair<6.0,>=4.2.0->gradio) (4.17.3)\n",
            "Requirement already satisfied: filelock in /home/dsj/.local/lib/python3.10/site-packages (from huggingface-hub>=0.14.0->gradio) (3.12.2)\n",
            "Requirement already satisfied: tqdm>=4.42.1 in /home/dsj/.local/lib/python3.10/site-packages (from huggingface-hub>=0.14.0->gradio) (4.65.0)\n",
            "Requirement already satisfied: python-dateutil>=2.7 in /home/dsj/.local/lib/python3.10/site-packages (from matplotlib~=3.0->gradio) (2.8.2)\n",
            "Requirement already satisfied: kiwisolver>=1.0.1 in /home/dsj/.local/lib/python3.10/site-packages (from matplotlib~=3.0->gradio) (1.4.4)\n",
            "Requirement already satisfied: fonttools>=4.22.0 in /home/dsj/.local/lib/python3.10/site-packages (from matplotlib~=3.0->gradio) (4.40.0)\n",
            "Requirement already satisfied: contourpy>=1.0.1 in /home/dsj/.local/lib/python3.10/site-packages (from matplotlib~=3.0->gradio) (1.1.0)\n",
            "Requirement already satisfied: pyparsing>=2.3.1 in /usr/lib/python3/dist-packages (from matplotlib~=3.0->gradio) (2.4.7)\n",
            "Requirement already satisfied: cycler>=0.10 in /home/dsj/.local/lib/python3.10/site-packages (from matplotlib~=3.0->gradio) (0.11.0)\n",
            "Requirement already satisfied: pytz>=2020.1 in /usr/lib/python3/dist-packages (from pandas<3.0,>=1.0->gradio) (2022.1)\n",
            "Requirement already satisfied: h11>=0.8 in /home/dsj/.local/lib/python3.10/site-packages (from uvicorn>=0.14.0->gradio) (0.14.0)\n",
            "Requirement already satisfied: click>=7.0 in /usr/lib/python3/dist-packages (from uvicorn>=0.14.0->gradio) (8.0.3)\n",
            "Collecting starlette<0.28.0,>=0.27.0\n",
            "  Downloading starlette-0.27.0-py3-none-any.whl (66 kB)\n",
            "\u001b[2K     \u001b[90m━━━━━━━━━━━━━━━━━━━━━━━━━━━━━━━━━━━━━━━━\u001b[0m \u001b[32m67.0/67.0 KB\u001b[0m \u001b[31m2.3 MB/s\u001b[0m eta \u001b[36m0:00:00\u001b[0m\n",
            "\u001b[?25hRequirement already satisfied: idna in /usr/lib/python3/dist-packages (from httpx->gradio) (3.3)\n",
            "Requirement already satisfied: sniffio in /home/dsj/.local/lib/python3.10/site-packages (from httpx->gradio) (1.3.0)\n",
            "Collecting httpcore<0.18.0,>=0.15.0\n",
            "  Downloading httpcore-0.17.3-py3-none-any.whl (74 kB)\n",
            "\u001b[2K     \u001b[90m━━━━━━━━━━━━━━━━━━━━━━━━━━━━━━━━━━━━━━━━\u001b[0m \u001b[32m74.5/74.5 KB\u001b[0m \u001b[31m10.6 MB/s\u001b[0m eta \u001b[36m0:00:00\u001b[0m\n",
            "\u001b[?25hRequirement already satisfied: certifi in /home/dsj/.local/lib/python3.10/site-packages (from httpx->gradio) (2023.7.22)\n",
            "Requirement already satisfied: anyio<5.0,>=3.0 in /home/dsj/.local/lib/python3.10/site-packages (from httpcore<0.18.0,>=0.15.0->httpx->gradio) (3.7.0)\n",
            "Requirement already satisfied: attrs>=17.4.0 in /home/dsj/.local/lib/python3.10/site-packages (from jsonschema>=3.0->altair<6.0,>=4.2.0->gradio) (23.1.0)\n",
            "Requirement already satisfied: pyrsistent!=0.17.0,!=0.17.1,!=0.17.2,>=0.14.0 in /home/dsj/.local/lib/python3.10/site-packages (from jsonschema>=3.0->altair<6.0,>=4.2.0->gradio) (0.19.3)\n",
            "Requirement already satisfied: six>=1.5 in /usr/lib/python3/dist-packages (from python-dateutil>=2.7->matplotlib~=3.0->gradio) (1.16.0)\n",
            "Requirement already satisfied: exceptiongroup in /home/dsj/.local/lib/python3.10/site-packages (from anyio<5.0,>=3.0->httpcore<0.18.0,>=0.15.0->httpx->gradio) (1.1.2)\n",
            "Building wheels for collected packages: ffmpy\n",
            "  Building wheel for ffmpy (setup.py) ... \u001b[?25ldone\n",
            "\u001b[?25h  Created wheel for ffmpy: filename=ffmpy-0.3.1-py3-none-any.whl size=5596 sha256=409b2be3c3b57c19d2e46f31cae0aa3900ffad4bde3979ef8da8a7a9db739c7e\n",
            "  Stored in directory: /home/dsj/.cache/pip/wheels/01/a6/d1/1c0828c304a4283b2c1639a09ad86f83d7c487ef34c6b4a1bf\n",
            "Successfully built ffmpy\n",
            "Installing collected packages: pydub, ffmpy, websockets, uvicorn, semantic-version, python-multipart, orjson, importlib-resources, aiofiles, starlette, httpcore, httpx, fastapi, altair, gradio-client, gradio\n",
            "Successfully installed aiofiles-23.2.1 altair-5.0.1 fastapi-0.103.0 ffmpy-0.3.1 gradio-3.41.2 gradio-client-0.5.0 httpcore-0.17.3 httpx-0.24.1 importlib-resources-6.0.1 orjson-3.9.5 pydub-0.25.1 python-multipart-0.0.6 semantic-version-2.10.0 starlette-0.27.0 uvicorn-0.23.2 websockets-11.0.3\n"
          ]
        }
      ],
      "source": [
        "!pip install gradio # 그라디오 라이브러리를 설치합니다."
      ]
    },
    {
      "cell_type": "markdown",
      "metadata": {
        "id": "ld0xzm3rNRyW"
      },
      "source": [
        "그라디오 라이브러리를 사용하여 사용자의 이름을 입력받아 \"안녕!\"이라는 인사말을 붙여 반환하는 간단한 인터페이스를 만듭니다. 여기서는 gr.Interface를 사용하여 인풋으로 텍스트를 받고, 아웃풋으로 텍스트를 반환하는 함수를 정의하고 실행하는 과정을 볼 수 있습니다."
      ]
    },
    {
      "cell_type": "code",
      "execution_count": 2,
      "metadata": {
        "colab": {
          "base_uri": "https://localhost:8080/",
          "height": 638
        },
        "id": "YbHPPNAbF6WE",
        "outputId": "c59ec751-3422-4d3e-9d5c-6a9955f14250"
      },
      "outputs": [
        {
          "name": "stdout",
          "output_type": "stream",
          "text": [
            "Running on local URL:  http://127.0.0.1:7860\n",
            "\n",
            "To create a public link, set `share=True` in `launch()`.\n"
          ]
        },
        {
          "data": {
            "text/html": [
              "<div><iframe src=\"http://127.0.0.1:7860/\" width=\"100%\" height=\"500\" allow=\"autoplay; camera; microphone; clipboard-read; clipboard-write;\" frameborder=\"0\" allowfullscreen></iframe></div>"
            ],
            "text/plain": [
              "<IPython.core.display.HTML object>"
            ]
          },
          "metadata": {},
          "output_type": "display_data"
        },
        {
          "data": {
            "text/plain": []
          },
          "execution_count": 2,
          "metadata": {},
          "output_type": "execute_result"
        }
      ],
      "source": [
        "import gradio as gr  # 그라디오 라이브러리를 불러옵니다.\n",
        "\n",
        "def greet(name):  # 인사말 함수를 정의합니다. 이 함수는 이름을 매개변수로 받아 \"안녕! \" 이라는 문자열을 붙여 반환합니다.\n",
        "    return \"안녕! \" + name  \n",
        "\n",
        "demo = gr.Interface(\n",
        "    fn=greet,  # 인터페이스를 실행할 때 호출할 함수를 지정합니다. 이 함수의 인자로 inputs로 정의된 내용이 입력되고, 함수의 출력이 outputs에 표시됩니다.\n",
        "    inputs=\"text\",  # 텍스트 입력 창을 설정합니다.\n",
        "    outputs=\"text\"  # 텍스트 출력 창을 설정합니다.\n",
        ")\n",
        "\n",
        "demo.launch()  # 그라디오 인터페이스를 실행합니다. 실행하면 사용자는 텍스트 입력창에 이름을 입력할 수 있고, 그 결과 \"안녕! \" + 입력한 이름 이라는 출력을 볼 수 있습니다."
      ]
    },
    {
      "cell_type": "markdown",
      "metadata": {
        "id": "o_GjKZ8DRGCK"
      },
      "source": [
        "이 코드는 이전의 예제와 동일하게 작동하나 차이점은, 이번에는 gr.Textbox를 사용하여 사용자 입력 창에 추가 정보를 제공한다는 점입니다. 이를 통해 사용자는 어떤 정보를 입력해야하는지 더 잘 이해할 수 있습니다."
      ]
    },
    {
      "cell_type": "code",
      "execution_count": null,
      "metadata": {
        "colab": {
          "base_uri": "https://localhost:8080/",
          "height": 638
        },
        "id": "jzN31mpwGG85",
        "outputId": "ecca8eed-3320-43e1-a0b6-f5a761f54619"
      },
      "outputs": [
        {
          "name": "stdout",
          "output_type": "stream",
          "text": [
            "Colab notebook detected. To show errors in colab notebook, set debug=True in launch()\n",
            "Note: opening Chrome Inspector may crash demo inside Colab notebooks.\n",
            "\n",
            "To create a public link, set `share=True` in `launch()`.\n"
          ]
        },
        {
          "data": {
            "application/javascript": "(async (port, path, width, height, cache, element) => {\n                        if (!google.colab.kernel.accessAllowed && !cache) {\n                            return;\n                        }\n                        element.appendChild(document.createTextNode(''));\n                        const url = await google.colab.kernel.proxyPort(port, {cache});\n\n                        const external_link = document.createElement('div');\n                        external_link.innerHTML = `\n                            <div style=\"font-family: monospace; margin-bottom: 0.5rem\">\n                                Running on <a href=${new URL(path, url).toString()} target=\"_blank\">\n                                    https://localhost:${port}${path}\n                                </a>\n                            </div>\n                        `;\n                        element.appendChild(external_link);\n\n                        const iframe = document.createElement('iframe');\n                        iframe.src = new URL(path, url).toString();\n                        iframe.height = height;\n                        iframe.allow = \"autoplay; camera; microphone; clipboard-read; clipboard-write;\"\n                        iframe.width = width;\n                        iframe.style.border = 0;\n                        element.appendChild(iframe);\n                    })(7861, \"/\", \"100%\", 500, false, window.element)",
            "text/plain": [
              "<IPython.core.display.Javascript object>"
            ]
          },
          "metadata": {},
          "output_type": "display_data"
        },
        {
          "data": {
            "text/plain": []
          },
          "execution_count": 3,
          "metadata": {},
          "output_type": "execute_result"
        }
      ],
      "source": [
        "import gradio as gr  # 그라디오 라이브러리를 불러옵니다.\n",
        "\n",
        "def greet(name):  # 인사말 함수를 정의합니다. 이 함수는 이름을 매개변수로 받아 \"안녕! \" 이라는 문자열을 붙여 반환합니다.\n",
        "    return \"안녕! \" + name  \n",
        "\n",
        "demo = gr.Interface(\n",
        "    fn = greet,  # 인터페이스를 실행할 때 호출할 함수를 지정합니다. 이 함수의 인자로 inputs로 정의된 내용이 입력되고, 함수의 출력이 outputs에 표시됩니다.\n",
        "    inputs = gr.Textbox(lines=2, placeholder=\"이름을 작성하세요.\"),  # 사용자가 입력을 제공할 텍스트박스를 정의하고, 플레이스홀더를 사용하여 입력창에 힌트를 제공합니다.\n",
        "    outputs=\"text\"  # 텍스트 출력 창을 설정합니다.\n",
        ")\n",
        "\n",
        "demo.launch()  # 그라디오 인터페이스를 실행합니다. 실행하면 사용자는 텍스트 입력창에 이름을 입력할 수 있고, 그 결과 \"안녕! \" + 입력한 이름 이라는 출력을 볼 수 있습니다."
      ]
    },
    {
      "cell_type": "markdown",
      "metadata": {
        "id": "sFiIIy-dSAoE"
      },
      "source": [
        "이전 코드와 비슷한 코드이지만, 이번에는 gr.Blocks()를 사용하여 더 복잡한 인터페이스를 만듭니다. 그리고 여기에서는 버튼을 추가하고 버튼이 클릭될 때 함수가 호출되도록 설정합니다. 이렇게 하면 사용자가 버튼을 클릭할 때마다 greet 함수가 호출되어 이름에 \"안녕!\"을 붙여 반환합니다."
      ]
    },
    {
      "cell_type": "code",
      "execution_count": null,
      "metadata": {
        "colab": {
          "base_uri": "https://localhost:8080/",
          "height": 638
        },
        "id": "pB4kbpd0GRFJ",
        "outputId": "4f434570-08de-4600-db7e-c289da9dc37d"
      },
      "outputs": [
        {
          "name": "stdout",
          "output_type": "stream",
          "text": [
            "Colab notebook detected. To show errors in colab notebook, set debug=True in launch()\n",
            "Note: opening Chrome Inspector may crash demo inside Colab notebooks.\n",
            "\n",
            "To create a public link, set `share=True` in `launch()`.\n"
          ]
        },
        {
          "data": {
            "application/javascript": "(async (port, path, width, height, cache, element) => {\n                        if (!google.colab.kernel.accessAllowed && !cache) {\n                            return;\n                        }\n                        element.appendChild(document.createTextNode(''));\n                        const url = await google.colab.kernel.proxyPort(port, {cache});\n\n                        const external_link = document.createElement('div');\n                        external_link.innerHTML = `\n                            <div style=\"font-family: monospace; margin-bottom: 0.5rem\">\n                                Running on <a href=${new URL(path, url).toString()} target=\"_blank\">\n                                    https://localhost:${port}${path}\n                                </a>\n                            </div>\n                        `;\n                        element.appendChild(external_link);\n\n                        const iframe = document.createElement('iframe');\n                        iframe.src = new URL(path, url).toString();\n                        iframe.height = height;\n                        iframe.allow = \"autoplay; camera; microphone; clipboard-read; clipboard-write;\"\n                        iframe.width = width;\n                        iframe.style.border = 0;\n                        element.appendChild(iframe);\n                    })(7862, \"/\", \"100%\", 500, false, window.element)",
            "text/plain": [
              "<IPython.core.display.Javascript object>"
            ]
          },
          "metadata": {},
          "output_type": "display_data"
        },
        {
          "data": {
            "text/plain": []
          },
          "execution_count": 4,
          "metadata": {},
          "output_type": "execute_result"
        }
      ],
      "source": [
        "import gradio as gr  # 그라디오 라이브러리를 불러옵니다.\n",
        "\n",
        "def greet(name):  # 인사말 함수를 정의합니다. 이 함수는 이름을 매개변수로 받아 \"안녕! \" 이라는 문자열을 붙여 반환합니다.\n",
        "    return \"안녕! \" + name  \n",
        "\n",
        "with gr.Blocks() as demo:  # gr.Blocks()를 사용하여 인터페이스를 생성합니다.\n",
        "    name = gr.Textbox(label=\"이름\")  # '이름'이라는 레이블을 가진 입력 텍스트박스를 생성합니다.\n",
        "    output = gr.Textbox(label=\"출력창\")  # '출력창'이라는 레이블을 가진 출력 텍스트박스를 생성합니다.\n",
        "    greet_btn = gr.Button(\"인사\")  # '인사'라는 레이블을 가진 버튼을 생성합니다.\n",
        "    greet_btn.click(fn=greet, inputs=name, outputs=output, api_name=\"greet\")  # 버튼 클릭 시 greet 함수가 실행되도록 합니다.\n",
        "\n",
        "demo.launch()  # 인터페이스를 실행합니다. 이제 사용자는 이름을 입력하고 '인사' 버튼을 클릭하면 \"안녕! \" + 입력한 이름 이라는 메시지가 출력창에 표시됩니다.\n"
      ]
    },
    {
      "cell_type": "markdown",
      "metadata": {
        "id": "de8AOw3JR1zn"
      },
      "source": [
        "이번 코드는 그라디오 라이브러리를 이용하여 간단한 채팅봇을 구현합니다. 여기서는 사용자의 메시지를 입력받고, 미리 정의된 응답 중 하나를 무작위로 선택하여 사용자에게 반환하는 간단한 로직이 적용되어 있습니다. 또한, 이전 메시지와 봇의 응답을 기록하고, '초기화' 버튼을 누르면 채팅 기록을 초기화하는 기능도 포함되어 있습니다."
      ]
    },
    {
      "cell_type": "code",
      "execution_count": null,
      "metadata": {
        "colab": {
          "base_uri": "https://localhost:8080/",
          "height": 638
        },
        "id": "DshdHbFCGr-P",
        "outputId": "42042af1-1932-4b55-bff9-d782a12641c8"
      },
      "outputs": [
        {
          "name": "stdout",
          "output_type": "stream",
          "text": [
            "Colab notebook detected. To show errors in colab notebook, set debug=True in launch()\n",
            "Note: opening Chrome Inspector may crash demo inside Colab notebooks.\n",
            "\n",
            "To create a public link, set `share=True` in `launch()`.\n"
          ]
        },
        {
          "data": {
            "application/javascript": "(async (port, path, width, height, cache, element) => {\n                        if (!google.colab.kernel.accessAllowed && !cache) {\n                            return;\n                        }\n                        element.appendChild(document.createTextNode(''));\n                        const url = await google.colab.kernel.proxyPort(port, {cache});\n\n                        const external_link = document.createElement('div');\n                        external_link.innerHTML = `\n                            <div style=\"font-family: monospace; margin-bottom: 0.5rem\">\n                                Running on <a href=${new URL(path, url).toString()} target=\"_blank\">\n                                    https://localhost:${port}${path}\n                                </a>\n                            </div>\n                        `;\n                        element.appendChild(external_link);\n\n                        const iframe = document.createElement('iframe');\n                        iframe.src = new URL(path, url).toString();\n                        iframe.height = height;\n                        iframe.allow = \"autoplay; camera; microphone; clipboard-read; clipboard-write;\"\n                        iframe.width = width;\n                        iframe.style.border = 0;\n                        element.appendChild(iframe);\n                    })(7863, \"/\", \"100%\", 500, false, window.element)",
            "text/plain": [
              "<IPython.core.display.Javascript object>"
            ]
          },
          "metadata": {},
          "output_type": "display_data"
        },
        {
          "data": {
            "text/plain": []
          },
          "execution_count": 5,
          "metadata": {},
          "output_type": "execute_result"
        }
      ],
      "source": [
        "import gradio as gr  # 그라디오 라이브러리를 불러옵니다.\n",
        "import random  # 무작위 선택을 위한 라이브러리를 불러옵니다.\n",
        "import time  # 시간 지연을 위한 라이브러리를 불러옵니다.\n",
        "\n",
        "def respond(message, chat_history):  # 채팅봇의 응답을 처리하는 함수를 정의합니다.\n",
        "    bot_message = random.choice([\"어떻게 지내세요?\", \"좋아해요\", \"배고파요\"])  # 미리 정의된 응답 중 하나를 무작위로 선택합니다.\n",
        "    chat_history.append((message, bot_message))  # 채팅 기록에 사용자의 메시지와 봇의 응답을 추가합니다.\n",
        "    time.sleep(1)  # 응답 간의 시간 지연을 생성합니다. 이는 봇이 실시간으로 답변하고 있는 것처럼 보이게 합니다.\n",
        "    return \"\", chat_history  # 수정된 채팅 기록을 반환합니다.\n",
        "\n",
        "with gr.Blocks() as demo:  # gr.Blocks()를 사용하여 인터페이스를 생성합니다.\n",
        "    chatbot = gr.Chatbot(label=\"채팅창\")  # '채팅창'이라는 레이블을 가진 채팅봇 컴포넌트를 생성합니다.\n",
        "    msg = gr.Textbox(label=\"입력\")  # '입력'이라는 레이블을 가진 텍스트박스를 생성합니다.\n",
        "    clear = gr.Button(\"초기화\")  # '초기화'라는 레이블을 가진 버튼을 생성합니다.\n",
        "\n",
        "    msg.submit(respond, [msg, chatbot], [msg, chatbot])  # 텍스트박스에 메시지를 입력하고 제출하면 respond 함수가 호출되도록 합니다.\n",
        "    clear.click(lambda: None, None, chatbot, queue=False)  # '초기화' 버튼을 클릭하면 채팅 기록을 초기화합니다.\n",
        "\n",
        "demo.launch()  # 인터페이스를 실행합니다. 실행하면 사용자는 '입력' 텍스트박스에 메시지를 작성하고 제출할 수 있으며, '초기화' 버튼을 통해 채팅 기록을 초기화 할 수 있습니다."
      ]
    }
  ],
  "metadata": {
    "colab": {
      "provenance": []
    },
    "kernelspec": {
      "display_name": "Python 3",
      "name": "python3"
    },
    "language_info": {
      "codemirror_mode": {
        "name": "ipython",
        "version": 3
      },
      "file_extension": ".py",
      "mimetype": "text/x-python",
      "name": "python",
      "nbconvert_exporter": "python",
      "pygments_lexer": "ipython3",
      "version": "3.10.12"
    }
  },
  "nbformat": 4,
  "nbformat_minor": 0
}
